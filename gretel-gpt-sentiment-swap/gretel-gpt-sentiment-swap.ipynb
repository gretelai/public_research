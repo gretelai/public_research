{
 "cells": [
  {
   "cell_type": "code",
   "execution_count": null,
   "metadata": {},
   "outputs": [],
   "source": [
    "import os\n",
    "import getpass\n",
    "\n",
    "import gretel_client as gretel\n",
    "import pandas as pd"
   ]
  },
  {
   "cell_type": "code",
   "execution_count": null,
   "metadata": {},
   "outputs": [],
   "source": [
    "DATA_SUBSET = \"Video_Games_v1_00\"\n",
    "\n",
    "api_key = os.getenv(\"GRETEL_API_DEV_KEY\") or getpass.getpass(\"Enter your Gretel API key: \")\n",
    "\n",
    "gretel.configure_session(\n",
    "    api_key=api_key,\n",
    "    endpoint=\"https://api-dev.gretel.cloud\",\n",
    "    validate=True,\n",
    "    clear=True,\n",
    ")\n",
    "\n",
    "project = gretel.projects.get_project(name=f\"gretel-gpt-sentiment-swap-{DATA_SUBSET.replace('_', '-')}\")"
   ]
  },
  {
   "cell_type": "code",
   "execution_count": null,
   "metadata": {},
   "outputs": [],
   "source": [
    "project = gretel.projects.get_project(name=f\"gretel-gpt-sentiment-swap-{DATA_SUBSET.replace('_', '-')}\")"
   ]
  },
  {
   "cell_type": "code",
   "execution_count": null,
   "metadata": {},
   "outputs": [],
   "source": [
    "# get model id of the last completed model associated with the the data subset\n",
    "model= [m for m in project.search_models(model_name=DATA_SUBSET) if m.status == \"completed\"][-1]\n",
    "\n",
    "record_handler = model.create_record_handler_obj(\n",
    "    params={\"maximum_text_length\": 200, \"temperature\": 1.2}, \n",
    "    data_source=pd.read_csv(f\"data/conditional_prompts_{DATA_SUBSET}.csv.gz\")\n",
    ")\n",
    "\n",
    "record_handler.submit_cloud()\n",
    "gretel.helpers.poll(record_handler)\n",
    "\n",
    "df_generations = pd.read_csv(record_handler.get_artifact_link(\"data\"), compression='gzip')\n",
    "df_generations.to_csv(f\"model-generations/generations-{DATA_SUBSET}.csv.gz\", index=False)\n",
    "\n",
    "df_prompts = pd.read_csv(f\"data/conditional_prompts_{DATA_SUBSET}.csv.gz\")"
   ]
  },
  {
   "cell_type": "code",
   "execution_count": null,
   "metadata": {},
   "outputs": [],
   "source": [
    "num_samples = 5\n",
    "\n",
    "samples = df_prompts.sample(num_samples)\n",
    "for idx, prompt in samples.itertuples():\n",
    "    generation = df_generations.loc[idx, \"text\"]\n",
    "    print(f\"{prompt} \\033[1;30;46m{generation}\\033[0;0m\\n-----\\n\")"
   ]
  },
  {
   "cell_type": "code",
   "execution_count": null,
   "metadata": {},
   "outputs": [],
   "source": []
  }
 ],
 "metadata": {
  "kernelspec": {
   "display_name": "gretel-dev",
   "language": "python",
   "name": "python3"
  },
  "language_info": {
   "codemirror_mode": {
    "name": "ipython",
    "version": 3
   },
   "file_extension": ".py",
   "mimetype": "text/x-python",
   "name": "python",
   "nbconvert_exporter": "python",
   "pygments_lexer": "ipython3",
   "version": "3.10.12"
  },
  "orig_nbformat": 4
 },
 "nbformat": 4,
 "nbformat_minor": 2
}
