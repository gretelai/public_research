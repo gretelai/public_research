{
 "cells": [
  {
   "cell_type": "markdown",
   "metadata": {},
   "source": [
    "<a href=\"https://github.com/gretelai/public_research/blob/main/gretel-gpt-sentiment-swap/gretel-gpt-sentiment-swap.ipynb\" target=\"_parent\"><img src=\"https://colab.research.google.com/assets/colab-badge.svg\" alt=\"Open In Colab\"/></a>"
   ]
  },
  {
   "cell_type": "markdown",
   "metadata": {},
   "source": [
    "# 🎭 Gretel-GPT Sentiment Swap\n",
    "\n",
    "In this notebook, we will demonstrate how to use [Gretel GPT](https://docs.gretel.ai/reference/synthetics/models/gretel-gpt) to fine tune and prompt a large language model (LLM) to swap the sentiments of product reviews. Given a product review with a particular sentiment (positive or negative), our fine-tuned model will generate a new review with the opposite sentiment."
   ]
  },
  {
   "cell_type": "markdown",
   "metadata": {},
   "source": [
    "### 💾 Install the Gretel SDK"
   ]
  },
  {
   "cell_type": "code",
   "execution_count": null,
   "metadata": {},
   "outputs": [],
   "source": [
    "!pip install gretel-client"
   ]
  },
  {
   "cell_type": "code",
   "execution_count": null,
   "metadata": {},
   "outputs": [],
   "source": [
    "import pandas as pd\n",
    "import gretel_client as gretel"
   ]
  },
  {
   "cell_type": "markdown",
   "metadata": {},
   "source": [
    "### ⚙️ Main Project Settings\n",
    "\n",
    "- The data subset can be `Video_Games_v1_00` or `Apparel_v1_00` from the [Amazon Customer Reviews](https://huggingface.co/datasets/amazon_us_reviews) dataset.\n",
    "\n",
    "- The pair selection metric can be `helpful_votes` or `cos_sim`."
   ]
  },
  {
   "cell_type": "code",
   "execution_count": null,
   "metadata": {},
   "outputs": [],
   "source": [
    "DATA_SUBSET = \"Video_Games_v1_00\"\n",
    "PROJECT_NAME = \"gretel-gpt-sentiment-swap\"\n",
    "PAIR_SELECTION_METRIC = \"helpful_votes\"\n",
    "DATA_BASE_PATH = \"https://github.com/gretelai/public_research/raw/main/gretel-gpt-sentiment-swap/data/\""
   ]
  },
  {
   "cell_type": "markdown",
   "metadata": {},
   "source": [
    "### 🛜 Configure Gretel Session\n",
    "\n",
    "- You will need a Gretel API key for this step. \n",
    "\n",
    "- If you haven't already, get your API key by signing up for free at [gretel.ai](https://console.gretel.ai/login/)."
   ]
  },
  {
   "cell_type": "code",
   "execution_count": null,
   "metadata": {},
   "outputs": [],
   "source": [
    "gretel.configure_session(\n",
    "    api_key=\"prompt\",\n",
    "    endpoint=\"https://api.gretel.cloud\",\n",
    "    validate=True,\n",
    "    cache=\"yes\",\n",
    ")"
   ]
  },
  {
   "cell_type": "markdown",
   "metadata": {},
   "source": [
    "### 📊 Fetch data from GitHub\n",
    "\n",
    "- The datasets were created by this [create_dataset.py](https://github.com/gretelai/public_research/blob/main/gretel-gpt-sentiment-swap/create_dataset.py) script.\n",
    "\n",
    "- The training dataset consists of product review pairs.\n",
    "\n",
    "- Each record in the conditional dataset contains the first review in a review pair. The model's job is to generate the second review."
   ]
  },
  {
   "cell_type": "code",
   "execution_count": null,
   "metadata": {},
   "outputs": [],
   "source": [
    "dataset_label = f\"{DATA_SUBSET}_{PAIR_SELECTION_METRIC}\"\n",
    "\n",
    "df_train = pd.read_csv(DATA_BASE_PATH + f\"training_review_pairs-{dataset_label}.csv.gz\")\n",
    "df_prompts = pd.read_csv(DATA_BASE_PATH + f\"conditional_prompts-{DATA_SUBSET}.csv.gz\")"
   ]
  },
  {
   "cell_type": "markdown",
   "metadata": {},
   "source": [
    "### Print random examples from the fine-tuning dataset\n",
    "\n",
    "- Run the cell below multiple times to see different product review pairs"
   ]
  },
  {
   "cell_type": "code",
   "execution_count": null,
   "metadata": {},
   "outputs": [],
   "source": [
    "print(df_train.sample(1).iloc[0][\"text\"])"
   ]
  },
  {
   "cell_type": "markdown",
   "metadata": {},
   "source": [
    "### 🎛️ Fine-tune an LLM with Gretel GPT\n",
    "\n",
    "- This will take a few hours to complete. Feel free to grab some coffee ☕️\n",
    "\n",
    "- You can also monitor the progress of the training job in the [Gretel Console](https://console.gretel.cloud)"
   ]
  },
  {
   "cell_type": "code",
   "execution_count": null,
   "metadata": {},
   "outputs": [],
   "source": [
    "print(f\"Creating or fetching Gretel project with name {PROJECT_NAME}\")\n",
    "project = gretel.projects.get_project(name=PROJECT_NAME, display_name=PROJECT_NAME, create=True)\n",
    "\n",
    "config = {\n",
    "    \"schema_version\": 1,\n",
    "    \"models\": [\n",
    "        {\n",
    "            \"gpt_x\": {\n",
    "                \"data_source\": \"__\",\n",
    "                \"pretrained_model\": \"gretelai/mpt-7b\",\n",
    "                \"batch_size\": 16,\n",
    "                \"epochs\": 4,\n",
    "                \"weight_decay\": 0.01,\n",
    "                \"warmup_steps\": 100,\n",
    "                \"lr_scheduler\": \"linear\",\n",
    "                \"learning_rate\": 0.0005,\n",
    "                \"validation\": None,\n",
    "                \"generate\": {\"num_records\": 100, \"maximum_text_length\": 500},\n",
    "            }\n",
    "        }\n",
    "    ],\n",
    "}\n",
    "\n",
    "print(\"Creating model object\")\n",
    "model = project.create_model_obj(model_config=config)\n",
    "model.data_source = df_train\n",
    "model.name = f\"{PROJECT_NAME}_{dataset_label}\"\n",
    "\n",
    "print(f\"Submitting fine-tuning job to Gretel Cloud with data subset {dataset_label}\")\n",
    "model.submit_cloud()\n",
    "\n",
    "gretel.helpers.poll(model, verbose=False)"
   ]
  },
  {
   "cell_type": "markdown",
   "metadata": {},
   "source": [
    "### 🤖 Generate sentiment-swapped reviews"
   ]
  },
  {
   "cell_type": "code",
   "execution_count": null,
   "metadata": {},
   "outputs": [],
   "source": [
    "# Fetch the latest model from the project.\n",
    "model = [m for m in project.search_models(model_name=DATA_SUBSET) if m.status == \"completed\"][-1]\n",
    "\n",
    "# Create a record handler with the conditional prompts as seed data.\n",
    "record_handler = model.create_record_handler_obj(\n",
    "    params={\"maximum_text_length\": 200, \"temperature\": 1.2}, \n",
    "    data_source=df_prompts\n",
    ")\n",
    "\n",
    "# Submit the record handler to the Gretel Cloud for generation.\n",
    "record_handler.submit_cloud()\n",
    "gretel.helpers.poll(record_handler, verbose=False)\n",
    "\n",
    "# Fetch the generated data from the Gretel Cloud.\n",
    "df_generations = pd.read_csv(record_handler.get_artifact_link(\"data\"), compression='gzip')"
   ]
  },
  {
   "cell_type": "markdown",
   "metadata": {},
   "source": [
    "### 🖨️ Print example sentiment-swapped review pairs \n",
    "\n",
    "- The first review in each pair is sampled from the conditional prompt dataset.\n",
    "\n",
    "- The second review in each pair is the sentiment-swapped review from our model. "
   ]
  },
  {
   "cell_type": "code",
   "execution_count": null,
   "metadata": {},
   "outputs": [],
   "source": [
    "num_samples = 5\n",
    "\n",
    "samples = df_prompts.sample(num_samples)\n",
    "for idx, prompt in samples.itertuples():\n",
    "    generation = df_generations.loc[idx, \"text\"]\n",
    "    print(f\"{prompt} \\033[1;30;46m{generation}\\033[0;0m\\n-----\\n\")"
   ]
  },
  {
   "cell_type": "code",
   "execution_count": null,
   "metadata": {},
   "outputs": [],
   "source": []
  }
 ],
 "metadata": {
  "kernelspec": {
   "display_name": "gretel-dev",
   "language": "python",
   "name": "python3"
  },
  "language_info": {
   "codemirror_mode": {
    "name": "ipython",
    "version": 3
   },
   "file_extension": ".py",
   "mimetype": "text/x-python",
   "name": "python",
   "nbconvert_exporter": "python",
   "pygments_lexer": "ipython3",
   "version": "3.10.12"
  },
  "orig_nbformat": 4
 },
 "nbformat": 4,
 "nbformat_minor": 2
}
