{
 "cells": [
  {
   "cell_type": "code",
   "execution_count": null,
   "id": "1effc647",
   "metadata": {},
   "outputs": [],
   "source": [
    "%%capture\n",
    "!pip install numpy pandas matplotlib torch gretel-synthetics"
   ]
  },
  {
   "cell_type": "code",
   "execution_count": null,
   "id": "87a2e423",
   "metadata": {},
   "outputs": [],
   "source": [
    "import numpy as np\n",
    "import pandas as pd\n",
    "\n",
    "from gretel_synthetics.timeseries_dgan.dgan import DGAN\n",
    "from gretel_synthetics.timeseries_dgan.config import DGANConfig, OutputType, Normalization"
   ]
  },
  {
   "cell_type": "markdown",
   "id": "c6c3416d",
   "metadata": {},
   "source": [
    "# Training from a DataFrame"
   ]
  },
  {
   "cell_type": "code",
   "execution_count": null,
   "id": "c7a3e8dd",
   "metadata": {
    "scrolled": true
   },
   "outputs": [],
   "source": [
    "# Create some random training data data\n",
    "df = pd.DataFrame(np.random.random(size=(1000,30)))\n",
    "df.columns = pd.date_range(\"2022-01-01\", periods=30)\n",
    "# Include an attribute column\n",
    "df[\"attribute\"] = np.random.randint(0, 3, size=1000)\n",
    "\n",
    "df"
   ]
  },
  {
   "cell_type": "code",
   "execution_count": null,
   "id": "be637d61",
   "metadata": {
    "scrolled": true
   },
   "outputs": [],
   "source": [
    "# Train the model\n",
    "model = DGAN(DGANConfig(\n",
    "    max_sequence_len=30,\n",
    "    sample_len=3,\n",
    "    batch_size=1000,\n",
    "    epochs=10,  # For real data sets, 100-1000 epochs is typical\n",
    "))\n",
    "\n",
    "model.train_dataframe(\n",
    "    df,\n",
    "    attribute_columns=[\"attribute\"],\n",
    "    discrete_columns=[\"attribute\"],\n",
    ")\n",
    "\n",
    "# Generate synthetic data\n",
    "synthetic_df = model.generate_dataframe(100)\n",
    "\n",
    "synthetic_df"
   ]
  },
  {
   "cell_type": "markdown",
   "id": "784a6658",
   "metadata": {},
   "source": [
    "# Training from numpy arrays"
   ]
  },
  {
   "cell_type": "code",
   "execution_count": null,
   "id": "510515a2",
   "metadata": {
    "scrolled": true
   },
   "outputs": [],
   "source": [
    "# Create some random training data\n",
    "attributes = np.random.randint(0, 3, size=(1000,3))\n",
    "features = np.random.random(size=(1000,20,2))"
   ]
  },
  {
   "cell_type": "code",
   "execution_count": null,
   "id": "47b45d13",
   "metadata": {},
   "outputs": [],
   "source": [
    "attributes"
   ]
  },
  {
   "cell_type": "code",
   "execution_count": null,
   "id": "ae596b11",
   "metadata": {},
   "outputs": [],
   "source": [
    "features"
   ]
  },
  {
   "cell_type": "code",
   "execution_count": null,
   "id": "681b61a8",
   "metadata": {},
   "outputs": [],
   "source": [
    "# Train the model\n",
    "model = DGAN(DGANConfig(\n",
    "    max_sequence_len=20,\n",
    "    sample_len=4,\n",
    "    batch_size=1000,\n",
    "    epochs=10,  # For real data sets, 100-1000 epochs is typical\n",
    "))\n",
    "\n",
    "model.train_numpy(\n",
    "    attributes=attributes,\n",
    "    attribute_types = [OutputType.DISCRETE] * 3,\n",
    "    features=features,\n",
    "    feature_types = [OutputType.CONTINUOUS] * 2\n",
    ")\n",
    "\n",
    "# Generate synthetic data\n",
    "synthetic_attributes, synthetic_features = model.generate_numpy(1000)"
   ]
  },
  {
   "cell_type": "code",
   "execution_count": null,
   "id": "cd559231",
   "metadata": {},
   "outputs": [],
   "source": [
    "synthetic_attributes"
   ]
  },
  {
   "cell_type": "code",
   "execution_count": null,
   "id": "4e5b6129",
   "metadata": {},
   "outputs": [],
   "source": [
    "synthetic_features"
   ]
  }
 ],
 "metadata": {
  "kernelspec": {
   "display_name": "Python 3.9.10 ('public_research')",
   "language": "python",
   "name": "python3"
  },
  "language_info": {
   "codemirror_mode": {
    "name": "ipython",
    "version": 3
   },
   "file_extension": ".py",
   "mimetype": "text/x-python",
   "name": "python",
   "nbconvert_exporter": "python",
   "pygments_lexer": "ipython3",
   "version": "3.9.10"
  },
  "vscode": {
   "interpreter": {
    "hash": "0ba10d927dc22f5ccfdb132b6a17fd154616177be4a1f51ddd317f03cbf87e5a"
   }
  }
 },
 "nbformat": 4,
 "nbformat_minor": 5
}
