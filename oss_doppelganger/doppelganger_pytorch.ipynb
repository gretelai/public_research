{
 "cells": [
  {
   "cell_type": "code",
   "execution_count": null,
   "id": "9aec7d5d",
   "metadata": {},
   "outputs": [],
   "source": [
    "%%capture\n",
    "!pip install numpy pandas matplotlib torch gretel-synthetics\n"
   ]
  },
  {
   "cell_type": "code",
   "execution_count": null,
   "id": "3cf26543",
   "metadata": {
    "scrolled": true
   },
   "outputs": [],
   "source": [
    "import time\n",
    "\n",
    "import numpy as np\n",
    "import pandas as pd\n",
    "import matplotlib.pyplot as plt\n",
    "import torch\n",
    "\n",
    "from gretel_synthetics.timeseries_dgan.dgan import DGAN\n",
    "from gretel_synthetics.timeseries_dgan.config import DGANConfig, Normalization"
   ]
  },
  {
   "cell_type": "code",
   "execution_count": null,
   "id": "b0e57b58",
   "metadata": {
    "scrolled": false
   },
   "outputs": [],
   "source": [
    "S3_BASE_URL = \"https://gretel-public-website.s3.us-west-2.amazonaws.com/datasets/wiki-web-traffic-data/\"\n",
    "\n",
    "wwt = pd.read_csv(S3_BASE_URL + \"wikipedia-web-traffic-training.csv\", index_col=0)\n",
    "wwt.drop(columns=[\"domain\", \"access\", \"agent\"], inplace=True)\n",
    "assert wwt.shape[1] == 553\n",
    "ATTRIBUTE_COLUMNS = [\"domain_name\", \"access_name\", \"agent_name\"]\n",
    "\n",
    "wwt"
   ]
  },
  {
   "cell_type": "code",
   "execution_count": null,
   "id": "ff102eb0",
   "metadata": {
    "scrolled": false
   },
   "outputs": [],
   "source": [
    "# Extract numpy arrays for charts\n",
    "wwt_attributes = wwt[ATTRIBUTE_COLUMNS].to_numpy()\n",
    "print(wwt_attributes.shape)\n",
    "wwt_features = np.expand_dims(wwt.drop(columns=ATTRIBUTE_COLUMNS).to_numpy(), axis=-1)\n",
    "print(wwt_features.shape)"
   ]
  },
  {
   "cell_type": "code",
   "execution_count": null,
   "id": "8cc4009a",
   "metadata": {},
   "outputs": [],
   "source": [
    "# Plot a few time series\n",
    "for index in [0,1,2]:\n",
    "    plt.plot(wwt_features[index,:,0])\n",
    "\n",
    "plt.xlabel(\"day\")\n",
    "plt.ylabel(\"scaled page views\")\n",
    "plt.title(\"Sample WIKI time series\")\n",
    "plt.show()"
   ]
  },
  {
   "cell_type": "code",
   "execution_count": null,
   "id": "c2b3c3c5",
   "metadata": {},
   "outputs": [],
   "source": [
    "# Autocorrelation computation\n",
    "# From https://github.com/fjxmlzn/DoppelGANger/issues/20#issuecomment-858234890\n",
    "EPS = 1e-8\n",
    "\n",
    "def autocorr(X, Y):\n",
    "    Xm = torch.mean(X, 1).unsqueeze(1)\n",
    "    Ym = torch.mean(Y, 1).unsqueeze(1)\n",
    "    r_num = torch.sum((X - Xm) * (Y - Ym), 1)\n",
    "    r_den = torch.sqrt(torch.sum((X - Xm)**2, 1) * torch.sum((Y - Ym)**2, 1))\n",
    "\n",
    "    r_num[r_num == 0] = EPS\n",
    "    r_den[r_den == 0] = EPS\n",
    "\n",
    "    r = r_num / r_den\n",
    "    r[r > 1] = 0\n",
    "    r[r < -1] = 0\n",
    "\n",
    "    return r\n",
    "\n",
    "\n",
    "def get_autocorr(feature):\n",
    "    feature = torch.from_numpy(feature)\n",
    "    feature_length = feature.shape[1]\n",
    "    autocorr_vec = torch.Tensor(feature_length - 2)\n",
    "\n",
    "    for j in range(1, feature_length - 1):\n",
    "        autocorr_vec[j - 1] = torch.mean(autocorr(feature[:, :-j],\n",
    "                                                  feature[:, j:]))\n",
    "\n",
    "    return autocorr_vec.cpu().detach().numpy()"
   ]
  },
  {
   "cell_type": "markdown",
   "id": "0ca32b36",
   "metadata": {},
   "source": [
    "# Train fast model\n",
    "Modified params for larger batch_size to better utilize the GPU.\n",
    "\n",
    "Specific changes from params used in https://github.com/fjxmlzn/DoppelGANger\n",
    "* batch_size=1000 (was 100)\n",
    "* learning_rate=1e-4 (1e-3), changed for generator and discriminators\n",
    "\n"
   ]
  },
  {
   "cell_type": "code",
   "execution_count": null,
   "id": "8aa10bc2",
   "metadata": {
    "scrolled": false
   },
   "outputs": [],
   "source": [
    "# Train DGAN model\n",
    "\n",
    "config1 = DGANConfig(\n",
    "    max_sequence_len=wwt.shape[1] - len(ATTRIBUTE_COLUMNS),\n",
    "    sample_len=10,\n",
    "    use_attribute_discriminator=True,\n",
    "    gradient_penalty_coef=10.0,\n",
    "    attribute_gradient_penalty_coef=10.0,\n",
    "    generator_learning_rate=1e-4,\n",
    "    discriminator_learning_rate=1e-4,\n",
    "    attribute_discriminator_learning_rate=1e-4,\n",
    "    attribute_loss_coef=1.0,\n",
    "    apply_feature_scaling=False,  # features are already scaled to [-1,1]\n",
    "    apply_example_scaling=True,\n",
    "    normalization=Normalization.MINUSONE_ONE,\n",
    "    batch_size=1000,\n",
    "    epochs=400,\n",
    ")\n",
    "\n",
    "wwt_model1 = DGAN(config=config1)\n",
    "\n",
    "start_time = time.time()\n",
    "wwt_model1.train_dataframe(\n",
    "    df=wwt,\n",
    "    attribute_columns=ATTRIBUTE_COLUMNS,\n",
    ")\n",
    "\n",
    "# Generate data\n",
    "\n",
    "synthetic1 = wwt_model1.generate_dataframe(50000)\n",
    "\n",
    "end_time = time.time()\n",
    "print(\"Elapsed time: {} seconds\".format(end_time - start_time))"
   ]
  },
  {
   "cell_type": "code",
   "execution_count": null,
   "id": "9fe9ead7",
   "metadata": {
    "scrolled": false
   },
   "outputs": [],
   "source": [
    "synthetic1"
   ]
  },
  {
   "cell_type": "code",
   "execution_count": null,
   "id": "1f981ce0",
   "metadata": {},
   "outputs": [],
   "source": [
    "synthetic1.to_csv(\"synthetic_pytorch_fast.csv\")"
   ]
  },
  {
   "cell_type": "code",
   "execution_count": null,
   "id": "0b328f0f",
   "metadata": {},
   "outputs": [],
   "source": [
    "# Extract numpy arrays for charts\n",
    "wwt_synthetic_attributes1 = synthetic1[ATTRIBUTE_COLUMNS].to_numpy()\n",
    "print(wwt_synthetic_attributes1.shape)\n",
    "wwt_synthetic_features1 = np.expand_dims(synthetic1.drop(columns=ATTRIBUTE_COLUMNS).to_numpy().astype(\"float\"), axis=-1)\n",
    "print(wwt_synthetic_features1.shape)\n",
    "\n"
   ]
  },
  {
   "cell_type": "code",
   "execution_count": null,
   "id": "1fc93630",
   "metadata": {
    "scrolled": false
   },
   "outputs": [],
   "source": [
    "# Compare real and synthetic distribution of page views\n",
    "plt.hist([wwt_features.flatten(),wwt_synthetic_features1.flatten()], bins=25, label=[\"real\", \"synthetic\"])\n",
    "\n",
    "plt.title(\"Feature value distribution\")\n",
    "plt.legend()\n",
    "plt.show()\n"
   ]
  },
  {
   "cell_type": "code",
   "execution_count": null,
   "id": "ae4bfa2a",
   "metadata": {},
   "outputs": [],
   "source": [
    "wwt_synthetic_acf1 = get_autocorr(wwt_synthetic_features1)\n",
    "wwt_acf = get_autocorr(wwt_features)"
   ]
  },
  {
   "cell_type": "code",
   "execution_count": null,
   "id": "7ce71ecf",
   "metadata": {
    "scrolled": true
   },
   "outputs": [],
   "source": [
    "# Figure 1, autocorrelation\n",
    "plt.plot(wwt_acf, label=\"real\")\n",
    "plt.plot(wwt_synthetic_acf1, label=\"generated\")\n",
    "plt.xlabel(\"Time lag (days)\")\n",
    "plt.ylabel(\"Autocorrelation\")\n",
    "plt.title(\"Autocorrelation of daily page views for WWT dataset\")\n",
    "plt.legend()\n",
    "plt.show()\n",
    "\n"
   ]
  },
  {
   "cell_type": "code",
   "execution_count": null,
   "id": "d1ee4bdb",
   "metadata": {
    "scrolled": false
   },
   "outputs": [],
   "source": [
    "# Zoom in on first 50 day lags of autocorrelation\n",
    "plt.plot(wwt_acf[0:50], label=\"real\")\n",
    "plt.plot(wwt_synthetic_acf1[0:50], label=\"generated\")\n",
    "plt.xlabel(\"Time lag (days)\")\n",
    "plt.ylabel(\"Autocorrelation\")\n",
    "plt.legend()\n",
    "plt.show()"
   ]
  },
  {
   "cell_type": "markdown",
   "id": "1443bdc2",
   "metadata": {},
   "source": [
    "# Original params\n",
    "Paper uses batch_size=100 which is slower. Also a bit more inconsistent if the training produces a good model than the lower learning rate and larger batch size."
   ]
  },
  {
   "cell_type": "code",
   "execution_count": null,
   "id": "33b6f92e",
   "metadata": {},
   "outputs": [],
   "source": [
    "# Train DGAN model\n",
    "\n",
    "config2 = DGANConfig(\n",
    "    max_sequence_len=wwt.shape[1] - len(ATTRIBUTE_COLUMNS),\n",
    "    sample_len=10,\n",
    "    use_attribute_discriminator=True,\n",
    "    gradient_penalty_coef=10.0,\n",
    "    attribute_gradient_penalty_coef=10.0,\n",
    "    generator_learning_rate=1e-3,\n",
    "    discriminator_learning_rate=1e-3,\n",
    "    attribute_discriminator_learning_rate=1e-3,\n",
    "    attribute_loss_coef=1.0,\n",
    "    apply_feature_scaling=False,  # features are already scaled to [-1,1]\n",
    "    apply_example_scaling=True,\n",
    "    normalization=Normalization.MINUSONE_ONE,\n",
    "    batch_size=100,\n",
    "    epochs=400,\n",
    ")\n",
    "\n",
    "wwt_model2 = DGAN(config=config2)\n",
    "\n",
    "start_time = time.time()\n",
    "wwt_model2.train_dataframe(\n",
    "    df=wwt,\n",
    "    attribute_columns=ATTRIBUTE_COLUMNS,\n",
    ")\n",
    "\n",
    "# Generate data\n",
    "\n",
    "synthetic2 = wwt_model2.generate_dataframe(50000)\n",
    "\n",
    "end_time = time.time()\n",
    "print(\"Elapsed time: {} seconds\".format(end_time - start_time))"
   ]
  },
  {
   "cell_type": "code",
   "execution_count": null,
   "id": "e795a073",
   "metadata": {},
   "outputs": [],
   "source": [
    "synthetic2.head()"
   ]
  },
  {
   "cell_type": "code",
   "execution_count": null,
   "id": "60b8d025",
   "metadata": {},
   "outputs": [],
   "source": [
    "synthetic2.to_csv(\"synthetic_pytorch_original.csv\")"
   ]
  },
  {
   "cell_type": "code",
   "execution_count": null,
   "id": "2f60f4e9",
   "metadata": {},
   "outputs": [],
   "source": [
    "wwt_synthetic_attributes2 = synthetic2[ATTRIBUTE_COLUMNS].to_numpy()\n",
    "print(wwt_synthetic_attributes2.shape)\n",
    "wwt_synthetic_features2 = np.expand_dims(synthetic2.drop(columns=ATTRIBUTE_COLUMNS).to_numpy(), axis=-1).astype(\"float\")\n",
    "print(wwt_synthetic_features2.shape)"
   ]
  },
  {
   "cell_type": "code",
   "execution_count": null,
   "id": "8ebd5154",
   "metadata": {},
   "outputs": [],
   "source": [
    "wwt_synthetic_acf2 = get_autocorr(wwt_synthetic_features2)"
   ]
  },
  {
   "cell_type": "code",
   "execution_count": null,
   "id": "a359616a",
   "metadata": {},
   "outputs": [],
   "source": [
    "# Figure 1\n",
    "plt.plot(wwt_acf, label=\"real\")\n",
    "plt.plot(wwt_synthetic_acf2, label=\"generated\")\n",
    "plt.xlabel(\"Time lag (days)\")\n",
    "plt.ylabel(\"Autocorrelation\")\n",
    "plt.title(\"Autocorrelation of daily page views for WWT dataset\")\n",
    "plt.legend()\n",
    "plt.show()\n"
   ]
  }
 ],
 "metadata": {
  "kernelspec": {
   "display_name": "Python 3 (ipykernel)",
   "language": "python",
   "name": "python3"
  },
  "language_info": {
   "codemirror_mode": {
    "name": "ipython",
    "version": 3
   },
   "file_extension": ".py",
   "mimetype": "text/x-python",
   "name": "python",
   "nbconvert_exporter": "python",
   "pygments_lexer": "ipython3",
   "version": "3.9.17"
  }
 },
 "nbformat": 4,
 "nbformat_minor": 5
}
